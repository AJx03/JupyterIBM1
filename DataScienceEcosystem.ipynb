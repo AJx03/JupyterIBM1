{
 "cells": [
  {
   "cell_type": "markdown",
   "id": "7f52b100-2973-492f-a6a4-d2e94bee4c53",
   "metadata": {},
   "source": [
    "# Data Science Tools and Ecosystem"
   ]
  },
  {
   "cell_type": "markdown",
   "id": "0ec7431f-d56d-49f3-b517-924166e7cfd9",
   "metadata": {},
   "source": [
    "# In this notebook, Data Science Tools and Ecosystem are summarized."
   ]
  },
  {
   "cell_type": "markdown",
   "id": "e26d9a54-b3f7-441a-8e9e-8c30cd44aa06",
   "metadata": {},
   "source": [
    "Objectives:\n",
    "- List popular languages\n",
    "- list popular libraries\n",
    "- list popular tools\n",
    "- create tables\n",
    "- create ordered lists"
   ]
  },
  {
   "cell_type": "markdown",
   "id": "cbeb1872-9b70-4b71-834b-5143cc14dd47",
   "metadata": {},
   "source": [
    "# Some of the popular languages that Data Scientists use are:\n",
    "1. Python\n",
    "2. R\n",
    "3. SQL"
   ]
  },
  {
   "cell_type": "markdown",
   "id": "054a6f1a-a617-41cd-9b84-f507b24475db",
   "metadata": {},
   "source": [
    "# Some of the commonly used libraries used by Data Scientists include::\n",
    "1. Pandas\n",
    "2. NumPy\n",
    "3. MAtLib"
   ]
  },
  {
   "cell_type": "markdown",
   "id": "c55ea170-6b30-4877-884e-4405fb33b9dc",
   "metadata": {},
   "source": [
    "|Data Science Tools|\n",
    "|------------------|\n",
    "|Apache Spark|\n",
    "|Hadoop|\n",
    "|Jupyter|"
   ]
  },
  {
   "cell_type": "markdown",
   "id": "d69c791d-1b98-4a63-96ac-90f574be8c5e",
   "metadata": {},
   "source": [
    "### Below are a few examples of evaluating arithmetic expressions in Python"
   ]
  },
  {
   "cell_type": "code",
   "execution_count": 15,
   "id": "fecec2aa-310d-4264-b5d2-f5223114635c",
   "metadata": {},
   "outputs": [
    {
     "data": {
      "text/plain": [
       "17"
      ]
     },
     "execution_count": 15,
     "metadata": {},
     "output_type": "execute_result"
    }
   ],
   "source": [
    "#This a simple arithmetic expression to mutiply then add integers\n",
    "(3*4)+5"
   ]
  },
  {
   "cell_type": "code",
   "execution_count": 19,
   "id": "00d5223a-e4e9-4b6d-bd14-963754c068cb",
   "metadata": {},
   "outputs": [
    {
     "data": {
      "text/plain": [
       "3.3333333333333335"
      ]
     },
     "execution_count": 19,
     "metadata": {},
     "output_type": "execute_result"
    }
   ],
   "source": [
    "#This will convert 200 minutes to hours by diving by 60\n",
    "200/60"
   ]
  },
  {
   "cell_type": "markdown",
   "id": "78dc4846-51f0-4f2b-93c4-74d4d96785c2",
   "metadata": {},
   "source": [
    "## Author:\n",
    "Abdullah Javed"
   ]
  },
  {
   "cell_type": "code",
   "execution_count": null,
   "id": "d9009d30-c1af-4a9d-a535-78dea11d691b",
   "metadata": {},
   "outputs": [],
   "source": []
  }
 ],
 "metadata": {
  "kernelspec": {
   "display_name": "Python 3 (ipykernel)",
   "language": "python",
   "name": "python3"
  },
  "language_info": {
   "codemirror_mode": {
    "name": "ipython",
    "version": 3
   },
   "file_extension": ".py",
   "mimetype": "text/x-python",
   "name": "python",
   "nbconvert_exporter": "python",
   "pygments_lexer": "ipython3",
   "version": "3.12.4"
  }
 },
 "nbformat": 4,
 "nbformat_minor": 5
}
